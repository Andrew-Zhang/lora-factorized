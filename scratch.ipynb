{
 "cells": [
  {
   "cell_type": "code",
   "execution_count": 1,
   "metadata": {},
   "outputs": [
    {
     "name": "stdout",
     "output_type": "stream",
     "text": [
      "Detected kernel version 3.10.0, which is below the recommended minimum of 5.5.0; this can cause the process to hang. It is recommended to upgrade the kernel to the minimum version or higher.\n",
      "04/23/2024 23:08:34 - INFO - __main__ - Distributed environment: NO\n",
      "Num processes: 1\n",
      "Process index: 0\n",
      "Local process index: 0\n",
      "Device: cuda\n",
      "\n",
      "Mixed precision type: fp16\n",
      "\n",
      "Traceback (most recent call last):\n",
      "  File \"/home/azhang42/models/lora-factorized/diffusers/examples/text_to_image/train_text_to_image_lora.py\", line 992, in <module>\n",
      "    main()\n",
      "  File \"/home/azhang42/models/lora-factorized/diffusers/examples/text_to_image/train_text_to_image_lora.py\", line 445, in main\n",
      "    os.makedirs(args.output_dir, exist_ok=True)\n",
      "  File \"/home/azhang42/miniforge3/envs/convlora/lib/python3.10/os.py\", line 225, in makedirs\n",
      "    mkdir(name, mode)\n",
      "FileNotFoundError: [Errno 2] No such file or directory: ''\n",
      "Traceback (most recent call last):\n",
      "  File \"/home/azhang42/miniforge3/envs/convlora/bin/accelerate\", line 8, in <module>\n",
      "    sys.exit(main())\n",
      "  File \"/home/azhang42/miniforge3/envs/convlora/lib/python3.10/site-packages/accelerate/commands/accelerate_cli.py\", line 46, in main\n",
      "    args.func(args)\n",
      "  File \"/home/azhang42/miniforge3/envs/convlora/lib/python3.10/site-packages/accelerate/commands/launch.py\", line 1075, in launch_command\n",
      "    simple_launcher(args)\n",
      "  File \"/home/azhang42/miniforge3/envs/convlora/lib/python3.10/site-packages/accelerate/commands/launch.py\", line 681, in simple_launcher\n",
      "    raise subprocess.CalledProcessError(returncode=process.returncode, cmd=cmd)\n",
      "subprocess.CalledProcessError: Command '['/home/azhang42/miniforge3/envs/convlora/bin/python', '/home/azhang42/models/lora-factorized/diffusers/examples/text_to_image/train_text_to_image_lora.py', '--pretrained_model_name_or_path=', '--dataset_name=', '--dataloader_num_workers=8', '--resolution=512', '--center_crop', '--random_flip', '--train_batch_size=1', '--gradient_accumulation_steps=4', '--max_train_steps=15000', '--learning_rate=1e-04', '--max_grad_norm=1', '--lr_scheduler=cosine', '--lr_warmup_steps=0', '--output_dir=', '--push_to_hub', '--hub_model_id=', '--report_to=wandb', '--checkpointing_steps=500', '--validation_prompt=A woman with a sword', '--seed=1337']' returned non-zero exit status 1.\n"
     ]
    }
   ],
   "source": [
    "%load_ext autoreload\n",
    "%autoreload 2\n",
    "\n",
    "!export MODEL_NAME=\"runwayml/stable-diffusion-v1-5\"\n",
    "!export OUTPUT_DIR=\"/home/azhang42/models/lora-factorized/outputs\"\n",
    "!export HUB_MODEL_ID=\"pokemon-lora\"\n",
    "!export DATASET_NAME=\"YaYaB/onepiece-blip-captions\"\n",
    "\n",
    "!accelerate launch --mixed_precision=\"fp16\"  /home/azhang42/models/lora-factorized/diffusers/examples/text_to_image/train_text_to_image_lora.py \\\n",
    "  --pretrained_model_name_or_path=$MODEL_NAME \\\n",
    "  --dataset_name=$DATASET_NAME \\\n",
    "  --dataloader_num_workers=8 \\\n",
    "  --resolution=512 \\\n",
    "  --center_crop \\\n",
    "  --random_flip \\\n",
    "  --train_batch_size=1 \\\n",
    "  --gradient_accumulation_steps=4 \\\n",
    "  --max_train_steps=15000 \\\n",
    "  --learning_rate=1e-04 \\\n",
    "  --max_grad_norm=1 \\\n",
    "  --lr_scheduler=\"cosine\" \\\n",
    "  --lr_warmup_steps=0 \\\n",
    "  --output_dir=${OUTPUT_DIR} \\\n",
    "  --push_to_hub \\\n",
    "  --hub_model_id=${HUB_MODEL_ID} \\\n",
    "  --report_to=wandb \\\n",
    "  --checkpointing_steps=500 \\\n",
    "  --validation_prompt=\"A woman with a sword\" \\\n",
    "  --seed=1337"
   ]
  },
  {
   "cell_type": "code",
   "execution_count": null,
   "metadata": {},
   "outputs": [],
   "source": []
  }
 ],
 "metadata": {
  "kernelspec": {
   "display_name": "convlora",
   "language": "python",
   "name": "python3"
  },
  "language_info": {
   "codemirror_mode": {
    "name": "ipython",
    "version": 3
   },
   "file_extension": ".py",
   "mimetype": "text/x-python",
   "name": "python",
   "nbconvert_exporter": "python",
   "pygments_lexer": "ipython3",
   "version": "3.10.14"
  }
 },
 "nbformat": 4,
 "nbformat_minor": 2
}
